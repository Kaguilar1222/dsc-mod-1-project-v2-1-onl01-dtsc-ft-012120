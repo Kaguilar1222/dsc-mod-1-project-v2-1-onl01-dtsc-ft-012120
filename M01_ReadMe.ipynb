{
 "cells": [
  {
   "cell_type": "markdown",
   "metadata": {},
   "source": [
    "# Various Angles on Entering the Film Industry: Introduction\n",
    "\n",
    "## Overview\n",
    "\n",
    "In this project, I was given several data sets in a freeform project for a major company's fictional entry into filmmaking. The datasets included a wide range of related data as below in .csv and .tsv files:\n",
    "\n",
    "- Box Office Mojo:\n",
    "    - bom.movie_gross.csv.gz\n",
    "\n",
    "- IMDB:\n",
    "    - imdb.name.basics.csv.gz\n",
    "    - imdb.title.akas.csv.gz\n",
    "    - imdb.title.basics.csv.gz\n",
    "    - imdb.title.crew.csv.gz\n",
    "    - imdb.title.principals.csv.gz\n",
    "    - imdb.title.ratings.csv.gz\n",
    "- TMDB:\n",
    "    - tmdb.movies.csv.gz\n",
    "- The Numbers:\n",
    "    - tn.movie_budgets.csv.gz\n",
    "- Rotten Tomatoes:\n",
    "    - rt.movie_info.tsv.gz\n",
    "\n",
    "Given the breadth of the data and differing variables provided (budget, directors, studios, review text, popularity), I chose three broad questions to identify steps toward profitability, diversity in filmmaking, as well as placing our play to become a great film studio amongst Hollywood's Big Five.\n",
    "\n",
    "## The Questions\n",
    "I chose these three questions with the understanding that these are avenues towards determining the type of film company we would like to create, and to place us within the industry. \n",
    "\n",
    "1. What time of year would we want to release our first film?\n",
    "2. What genres are popular among non-English movies?\n",
    "3. What studios are our main competition, and what are their production budgets compared to one another?\n",
    "\n",
    "Although these questions are not interrelated, they help us to form a picture of the seasonality, diversity, and players in the space. In 2018, global box office revenue was $41.7 billion, to say nothing of streaming platforms and other entertainment services which many of these film companies also offer. As we identify the objectives of our movie studio (money, award prestige, name-recognition, etc.) we should take all three into account as we embark on this sizable new business venture. \n",
    "\n",
    "## Setting Up Our Data\n",
    "The modules I imported were: \n",
    "    - pandas for data analysis\n",
    "    - numpy for scientific computation\n",
    "    - os for interfacing with local file paths\n",
    "    - matplotlib for basic plotting\n",
    "    - seaborn for advanced plotting\n",
    "    - glob to generate pathnames\n",
    "    - sqlite3 for running SQL queries on our datasets\n",
    "\n",
    "I used glob to create a variable holding all zipped files in the zippedData folder provided. I then used a for loop to unzip the files, pull the path and return the basename, clean the filename, and return each file as a dataframe within our files_dict dictionary.\n",
    "\n",
    "\n"
   ]
  },
  {
   "cell_type": "markdown",
   "metadata": {},
   "source": [
    "#  Blockbuster Movie Season: Profits and Seasonality\n",
    "Convention leads us to believe that summer is a popular time for moviegoing. Do movies have a greater chance of success in the summer, or any time of year? I used The Numbers' data set in order to answer this question. The dataset contains over 5000 movies released from 1915 to 2019.\n",
    "\n",
    "##  Question 1: Let's review the seasonality of movie releases by profit. What time of year would we want to release our first film?\n",
    "\n",
    "![Boxplot of Movie Releases by Profit](Images/Time%20of%20Year%20for%20Profit.png)\n",
    "\n",
    "### EDA\n",
    "There is a definite seasonality for profitable movies, and it seems to converge on the summer and end of the calendar year. It does also seem that there is a potential for huge losses in the summer. This could be due to several reasons:\n",
    "* different genres being released at different times of the year (perhaps action/adventure movies are released in the summer and winter)\n",
    "* release dates for award contenders may be determined in relation to voting seasons\n",
    "\n",
    "### Recommendations\n",
    "I recommend that we release movies in the summer and end of year when there seems to be a high volume of movie-going, in addition to conducting ongoing research.\n",
    "\n",
    "### Next Steps\n",
    "We should continue to delve into this by considering the ROI for these movies, as well as the genres and their release in relation to time of year. We should also consider whether there is any change studio to studio."
   ]
  },
  {
   "cell_type": "markdown",
   "metadata": {},
   "source": [
    "# Foreign Films: Viewership and Genres\n",
    "Prompted by the increasing representation of non-English films in the last few years (Roma and Parasite, namely), I wanted to look at what genres were commonly represented in our databases and what genres are represented. I also initially wanted explore the visualization of both voter rating by genre and voter rating against popularity (a separate metric recorded by TMDB that indicates search results, 'likes', watchlists and other variables internal to their site. Both datasets had over 14,000 entries, but after removing the english movies and merging to one dataframe that contained genres my combined dataset had 252 films from 2010 - 2018.\n",
    "\n",
    "## Question 2: What genres are popular among non-English movies?\n",
    "![Barplot of Genres for Non-English Films](Images/Genres%20for%20Non-English%20Films.png)\n",
    "\n",
    "### EDA\n",
    "Each film had up to three genres tagged, so the total number of data points in the above visualization are more than 252. I also dropped the genres with fewer than 10 films tagged. However, the runaway dominant genre is Drama, followed by Comedy and Romance.\n",
    "\n",
    "I also created a SQL table to show the average voter rating in each genre. Our top 3 genres didn't make the top 5 average voter ratings by genre, with War films having the highest vote average at 7.310 and Horror films having the lowest at 6.22. \n",
    "Below are the rankings of our top three genres, out of a complete list of 21 genres. \n",
    "\n",
    "\n",
    "6\tDrama\t6.893789\t161\n",
    "9\tRomance\t6.760784\t51\n",
    "19\tComedy\t6.395238\t84\n",
    "\n",
    "Given that our TMDB data also has a variable on Popularity, which is based on number of votes, views, users adding a title to their watchlist or favorites, as well as previous day's popularity, I also wanted to confirm whether voter average was correlative to popularity - the correlation is 0.132982, so there is no correlation. \n",
    "\n",
    "### Recommendations\n",
    "If we are looking into producing or acquiring any foreign films, I recommend that we stick with Drama, Comedy and/or Romance. \n",
    "\n",
    "### Next Steps\n",
    "I recommend that we continue to scrape for further data to ensure our lists are accounting for the nature of our foreign language titles, including special characters that our databases may not be including and titles that are in different alphabets to see whether that results in a more complete dataset. We should also see if there are any languages in particular that are popular with our audiences."
   ]
  },
  {
   "cell_type": "markdown",
   "metadata": {},
   "source": [
    "# Top Studios and their Budgets\n",
    "Lastly, I am reviewing the Box Office Magic, Rotten Tomatoes tables and our existing dataframe from the first question to see which has the longest data set on studio information. I would like to determine which studios are releasing a high volume of movies, and would like to compare the production budgets of those studios.\n",
    "\n",
    "## Question 3: What studios are our main competition, and what are their production budgets compared to one another?\n",
    "![Barplot of movie studios with 100+ films ](Images/Films%20Released%20Per%20Studio.png)\n",
    "\n",
    "![Line plot with subplots for production budget for each studio](Images/Production%20Budgets%20and%20Studios.png)\n",
    "\n",
    "### EDA\n",
    "There is an obvious divide between the studios with high production, and a mean annual production spend of 531,708,500, and a median of 595,500,000. \n",
    "\n",
    "Buena Vista's annual budget based on release date far exceeds this average cost based on movie release year, with a spend of 1.05 billion dollars. Magnolia Pictures' production budget is a mere fraction of this as the studio with the lowest spend, at 25.22 million dollars (a not-inconsiderable sum).\n",
    "\n",
    "### Recommendations\n",
    "We should look into the process and costs associated with studios that are attaching their names to films via acquisition/distribution versus the cost of production in order to determine how the business should proceed with entering this space. Additionally, if we do decide to proceed with producing our own movies to compete with major studios, we should contemplate a budget in the hundreds of millions. \n",
    "\n",
    "### Next Steps\n",
    "As this plot shows the costs for the film in the year that a film was released, we would want to consult internally on how those costs hit a budget over the course of production. "
   ]
  },
  {
   "cell_type": "markdown",
   "metadata": {},
   "source": [
    "# Conclusion\n",
    "\n",
    "To summarize our learnings from the above:\n",
    "\n",
    "1) We should take advantage of movie-going in the summer and at the end of the year to maximize our profit. Additionally, we should continue to gather data on what genres to release in these peak movie-going times, and look closely at what films lost money during these times.\n",
    "\n",
    "2) If we are looking to appeal to an audience increasingly interested in the diversity of filmmaking, we should look into the process for acquiring Drama, Comedy, and Romance films in production or at film festivals, as well as keep an eye on what film markets are gaining traction with US audiences.  \n",
    "\n",
    "3) As we move towards establishing our studio organization, we must determine our level of investment between film production, acquisition and/or distribution. Film production undoubtedly is higher risk, higher cost (mean annual production budget is $531,708,500). We must gather more detailed data on the costs associated with all three and the legal terms of our involvement in acquisition/distribution, should we choose not to initially produce our own films. "
   ]
  },
  {
   "cell_type": "code",
   "execution_count": null,
   "metadata": {},
   "outputs": [],
   "source": []
  }
 ],
 "metadata": {
  "kernelspec": {
   "display_name": "Python 3",
   "language": "python",
   "name": "python3"
  },
  "language_info": {
   "codemirror_mode": {
    "name": "ipython",
    "version": 3
   },
   "file_extension": ".py",
   "mimetype": "text/x-python",
   "name": "python",
   "nbconvert_exporter": "python",
   "pygments_lexer": "ipython3",
   "version": "3.6.9"
  },
  "toc": {
   "base_numbering": 1,
   "nav_menu": {},
   "number_sections": true,
   "sideBar": true,
   "skip_h1_title": false,
   "title_cell": "Table of Contents",
   "title_sidebar": "Contents",
   "toc_cell": false,
   "toc_position": {},
   "toc_section_display": true,
   "toc_window_display": false
  },
  "varInspector": {
   "cols": {
    "lenName": 16,
    "lenType": 16,
    "lenVar": 40
   },
   "kernels_config": {
    "python": {
     "delete_cmd_postfix": "",
     "delete_cmd_prefix": "del ",
     "library": "var_list.py",
     "varRefreshCmd": "print(var_dic_list())"
    },
    "r": {
     "delete_cmd_postfix": ") ",
     "delete_cmd_prefix": "rm(",
     "library": "var_list.r",
     "varRefreshCmd": "cat(var_dic_list()) "
    }
   },
   "types_to_exclude": [
    "module",
    "function",
    "builtin_function_or_method",
    "instance",
    "_Feature"
   ],
   "window_display": false
  }
 },
 "nbformat": 4,
 "nbformat_minor": 2
}
